{
  "nbformat": 4,
  "nbformat_minor": 0,
  "metadata": {
    "colab": {
      "provenance": [],
      "authorship_tag": "ABX9TyNuhrhPhpTtrT3ytOqAYusp",
      "include_colab_link": true
    },
    "kernelspec": {
      "name": "python3",
      "display_name": "Python 3"
    },
    "language_info": {
      "name": "python"
    }
  },
  "cells": [
    {
      "cell_type": "markdown",
      "metadata": {
        "id": "view-in-github",
        "colab_type": "text"
      },
      "source": [
        "<a href=\"https://colab.research.google.com/github/vis-hal-k/Python-Tutorials/blob/main/Tuple.ipynb\" target=\"_parent\"><img src=\"https://colab.research.google.com/assets/colab-badge.svg\" alt=\"Open In Colab\"/></a>"
      ]
    },
    {
      "cell_type": "code",
      "execution_count": null,
      "metadata": {
        "id": "hNTs08_j2Wos",
        "colab": {
          "base_uri": "https://localhost:8080/"
        },
        "outputId": "6e06c80a-220c-42fd-f084-9ea899ab712a"
      },
      "outputs": [
        {
          "output_type": "stream",
          "name": "stdout",
          "text": [
            "('vishal', 'sneha')\n",
            "<class 'tuple'>\n"
          ]
        }
      ],
      "source": [
        "empty_tuple = 'vishal' , 'sneha' ,\n",
        "# you can add comma at last or not\n",
        "print(empty_tuple)\n",
        "print(type(empty_tuple))"
      ]
    },
    {
      "cell_type": "code",
      "source": [
        "# If you have single thing in the parenteses and omit that comma, you would not get a tuple, but just the thing i.e string\n",
        "oneMar = ('Groucho')\n",
        "print(oneMar)\n",
        "print(type(oneMar))\n",
        "#another exp\n",
        "secMar = (125)\n",
        "print(secMar)\n",
        "print(type(secMar))\n",
        "# Now lets take more than one ele\n",
        "thir = (25 , 100 )\n",
        "print(thir)\n",
        "print(type(thir))\n",
        "# taking first example but the last one with comma.\n",
        "four = ('Groucho',)\n",
        "print(four)\n",
        "print(type(four))\n",
        "# You can see after adding comma it become tuple."
      ],
      "metadata": {
        "colab": {
          "base_uri": "https://localhost:8080/"
        },
        "id": "Lqh3zvUg3pPI",
        "outputId": "046a764d-d71d-4d2d-f5f0-b2b6de1826fa"
      },
      "execution_count": null,
      "outputs": [
        {
          "output_type": "stream",
          "name": "stdout",
          "text": [
            "Groucho\n",
            "<class 'str'>\n",
            "125\n",
            "<class 'int'>\n",
            "(25, 100)\n",
            "<class 'tuple'>\n",
            "('Groucho',)\n",
            "<class 'tuple'>\n"
          ]
        }
      ]
    },
    {
      "cell_type": "markdown",
      "source": [
        "**Tuples are *immutable*; when you assign elements (only once) to a tuple, they're baked in the cake and can't be changed.**\n",
        "\n",
        "*Lists are mutable*"
      ],
      "metadata": {
        "id": "vAxsIRdk6HXE"
      }
    },
    {
      "cell_type": "markdown",
      "source": [
        "Tuples let you assign multiple variable at once:"
      ],
      "metadata": {
        "id": "oHloFEZcOvGQ"
      }
    },
    {
      "cell_type": "code",
      "source": [
        "marx_tuple = ('vishal','sneha', 'rani')\n",
        "a,b,c = marx_tuple\n",
        "print(\"a = \", a)\n",
        "print(\"b = \",b)\n",
        "print(\"c = \",c)"
      ],
      "metadata": {
        "colab": {
          "base_uri": "https://localhost:8080/"
        },
        "id": "eb5D15--PDJR",
        "outputId": "26905603-4696-4e40-b01d-15d2412f7868"
      },
      "execution_count": null,
      "outputs": [
        {
          "output_type": "stream",
          "name": "stdout",
          "text": [
            "a =  vishal\n",
            "b =  sneha\n",
            "c =  rani\n"
          ]
        }
      ]
    },
    {
      "cell_type": "markdown",
      "source": [
        "This is something called tuple unpacking."
      ],
      "metadata": {
        "id": "4PgnlkXcP_mZ"
      }
    },
    {
      "cell_type": "markdown",
      "source": [
        "**You can use tuples to exchange values in one statement without using temporary variable:**"
      ],
      "metadata": {
        "id": "4d4P3EOKQAPy"
      }
    },
    {
      "cell_type": "code",
      "source": [
        "password = 'swodfish'\n",
        "icecream = 'tuttifrutti'\n",
        "password, icecream = icecream, password\n",
        "print(password)\n",
        "print(icecream)"
      ],
      "metadata": {
        "colab": {
          "base_uri": "https://localhost:8080/"
        },
        "id": "HA6ymztsQaNn",
        "outputId": "b4329628-b8f1-4dd5-cdfe-2db7eed9fed6"
      },
      "execution_count": null,
      "outputs": [
        {
          "output_type": "stream",
          "name": "stdout",
          "text": [
            "tuttifrutti\n",
            "swodfish\n"
          ]
        }
      ]
    },
    {
      "cell_type": "markdown",
      "source": [
        "## Tuple Converstion"
      ],
      "metadata": {
        "id": "eOUUWeBAQwRQ"
      }
    },
    {
      "cell_type": "code",
      "source": [
        "list = ['vk','sr','sm']\n",
        "now_tuple = tuple(list)\n",
        "now_tuple"
      ],
      "metadata": {
        "colab": {
          "base_uri": "https://localhost:8080/"
        },
        "id": "0YdRNcgKQ6N6",
        "outputId": "a548cf06-c5ce-4528-9a91-d109b796a194"
      },
      "execution_count": null,
      "outputs": [
        {
          "output_type": "execute_result",
          "data": {
            "text/plain": [
              "('vk', 'sr', 'sm')"
            ]
          },
          "metadata": {},
          "execution_count": 7
        }
      ]
    },
    {
      "cell_type": "code",
      "source": [
        "# combine the tuple by using +\n",
        "conca = ('vishal',) + ('sneha',) + ('rani',)\n",
        "conca"
      ],
      "metadata": {
        "colab": {
          "base_uri": "https://localhost:8080/"
        },
        "id": "mAVgBzQRSxy6",
        "outputId": "f7fc6e55-7fd1-4f27-d0bc-4fb104afd472"
      },
      "execution_count": null,
      "outputs": [
        {
          "output_type": "execute_result",
          "data": {
            "text/plain": [
              "('vishal', 'sneha', 'rani')"
            ]
          },
          "metadata": {},
          "execution_count": 14
        }
      ]
    },
    {
      "cell_type": "code",
      "source": [
        "# Duplicates Items with *\n",
        "('yana',)*3"
      ],
      "metadata": {
        "colab": {
          "base_uri": "https://localhost:8080/"
        },
        "id": "9oTu_5f1TYuf",
        "outputId": "22ad0de9-a56f-4a27-ec67-11ac0137d988"
      },
      "execution_count": null,
      "outputs": [
        {
          "output_type": "execute_result",
          "data": {
            "text/plain": [
              "('yana', 'yana', 'yana')"
            ]
          },
          "metadata": {},
          "execution_count": 16
        }
      ]
    },
    {
      "cell_type": "code",
      "source": [
        "# compare tuples\n",
        " # This much work like list comparasion\n",
        "a = (7,2)\n",
        "b = (7,2)\n",
        "print(a==b)\n",
        "print((0,1200,1) == (0,2,100))\n",
        "# ! I have DOUBT in this"
      ],
      "metadata": {
        "colab": {
          "base_uri": "https://localhost:8080/"
        },
        "id": "x5PcyMVHUXMR",
        "outputId": "7d2d7a31-1ee6-413b-c9d0-4158b12a98e8"
      },
      "execution_count": null,
      "outputs": [
        {
          "output_type": "stream",
          "name": "stdout",
          "text": [
            "True\n",
            "False\n"
          ]
        }
      ]
    },
    {
      "cell_type": "code",
      "source": [
        "# Iterate with rate with for and in\n",
        "words = ('fresh','out' , 'of', 'ideas')\n",
        "for word in words:\n",
        "   print(word)"
      ],
      "metadata": {
        "colab": {
          "base_uri": "https://localhost:8080/"
        },
        "id": "9g0oBKunWqdQ",
        "outputId": "0b8b61b8-b999-414a-9fe0-fbc1702cb65d"
      },
      "execution_count": null,
      "outputs": [
        {
          "output_type": "stream",
          "name": "stdout",
          "text": [
            "fresh\n",
            "out\n",
            "of\n",
            "ideas\n"
          ]
        }
      ]
    },
    {
      "cell_type": "markdown",
      "source": [
        "## Modify the tuple"
      ],
      "metadata": {
        "id": "E1geMP32aw0P"
      }
    },
    {
      "cell_type": "code",
      "source": [
        "# You can appear to modify a typle like this:\n",
        "t1 = ('v1' , 's2' , 's3')\n",
        "t2 = ('flop',)\n",
        "# did I modify t1 ?\n",
        "# No\n",
        "t1 = t1 + t2\n",
        "t1"
      ],
      "metadata": {
        "colab": {
          "base_uri": "https://localhost:8080/"
        },
        "id": "RGJn4R4vbO8l",
        "outputId": "af1c4f49-e328-413f-ced7-68fdfc2cb1dd"
      },
      "execution_count": null,
      "outputs": [
        {
          "output_type": "execute_result",
          "data": {
            "text/plain": [
              "('v1', 's2', 's3', 'flop')"
            ]
          },
          "metadata": {},
          "execution_count": 48
        }
      ]
    },
    {
      "cell_type": "markdown",
      "source": [
        "But it isn't the same t1. Python made a new tuple from the original tuples pointed to by t1 and t2, and assigned the name t1 to this new tuple. You can see with id() when a variable name is pointing to a new value:"
      ],
      "metadata": {
        "id": "3VaQh2SdbX9t"
      }
    },
    {
      "cell_type": "code",
      "source": [
        "# Lets verify\n",
        "t1 = ('v1' , 's2' , 's3')\n",
        "t2 = ('flop',)\n",
        "print(id(t1))\n",
        "t1 = t1 + t2\n",
        "print(id(t1))"
      ],
      "metadata": {
        "colab": {
          "base_uri": "https://localhost:8080/"
        },
        "id": "q-KvDpLnc1js",
        "outputId": "c961da78-04b5-4d95-e05e-7eac9cc40366"
      },
      "execution_count": null,
      "outputs": [
        {
          "output_type": "stream",
          "name": "stdout",
          "text": [
            "135895388593600\n",
            "135895424237168\n"
          ]
        }
      ]
    },
    {
      "cell_type": "markdown",
      "source": [
        "Here above you can see id are different, so both is t1 is different."
      ],
      "metadata": {
        "id": "GuGqRdprdO9-"
      }
    },
    {
      "cell_type": "code",
      "source": [],
      "metadata": {
        "id": "JhqBV4ZUdX5X"
      },
      "execution_count": null,
      "outputs": []
    }
  ]
}