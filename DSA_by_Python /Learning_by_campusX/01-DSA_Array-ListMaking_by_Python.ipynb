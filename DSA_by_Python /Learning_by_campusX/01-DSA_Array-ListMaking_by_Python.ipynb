{
  "nbformat": 4,
  "nbformat_minor": 0,
  "metadata": {
    "colab": {
      "provenance": [],
      "authorship_tag": "ABX9TyPatmnSJgfIFdySIRr/yRB+",
      "include_colab_link": true
    },
    "kernelspec": {
      "name": "python3",
      "display_name": "Python 3"
    },
    "language_info": {
      "name": "python"
    }
  },
  "cells": [
    {
      "cell_type": "markdown",
      "metadata": {
        "id": "view-in-github",
        "colab_type": "text"
      },
      "source": [
        "<a href=\"https://colab.research.google.com/github/vis-hal-k/Python-Tutorials/blob/main/DSA_by_Python%20/Learning_by_campusX/01-DSA_Array-ListMaking_by_Python.ipynb\" target=\"_parent\"><img src=\"https://colab.research.google.com/assets/colab-badge.svg\" alt=\"Open In Colab\"/></a>"
      ]
    },
    {
      "cell_type": "markdown",
      "source": [
        "# **DATA STRUCTURE and ALGORITHM**"
      ],
      "metadata": {
        "id": "Gv67f9tbyw-m"
      }
    },
    {
      "cell_type": "markdown",
      "source": [
        "## Dynamic Array"
      ],
      "metadata": {
        "id": "WSWqBo_5zEk6"
      }
    },
    {
      "cell_type": "markdown",
      "source": [
        "### Proving that List is Dynamic array"
      ],
      "metadata": {
        "id": "zi8_Cv4QzKSE"
      }
    },
    {
      "cell_type": "code",
      "execution_count": 108,
      "metadata": {
        "colab": {
          "base_uri": "https://localhost:8080/"
        },
        "id": "iLNqco_xxLnx",
        "outputId": "d3472830-c333-4426-b667-18eaac7d80c8"
      },
      "outputs": [
        {
          "output_type": "execute_result",
          "data": {
            "text/plain": [
              "56"
            ]
          },
          "metadata": {},
          "execution_count": 108
        }
      ],
      "source": [
        "import sys\n",
        "L = []\n",
        "sys.getsizeof(L)"
      ]
    },
    {
      "cell_type": "code",
      "source": [
        "L.append('hello')\n",
        "sys.getsizeof(L)"
      ],
      "metadata": {
        "colab": {
          "base_uri": "https://localhost:8080/"
        },
        "id": "kdoa5fZZxaxx",
        "outputId": "6f89037e-ba9b-451b-a401-c64ddbf6da30"
      },
      "execution_count": 109,
      "outputs": [
        {
          "output_type": "execute_result",
          "data": {
            "text/plain": [
              "88"
            ]
          },
          "metadata": {},
          "execution_count": 109
        }
      ]
    },
    {
      "cell_type": "code",
      "source": [
        "print(L)\n",
        "sys.getsizeof(L)\n",
        "L.append(1)\n",
        "print(L)\n",
        "sys.getsizeof(L)\n",
        "L.append(1213)\n",
        "sys.getsizeof(L)"
      ],
      "metadata": {
        "colab": {
          "base_uri": "https://localhost:8080/"
        },
        "id": "gzGu51uLxpW-",
        "outputId": "e837e99b-2c13-4416-a372-4083052f35cd"
      },
      "execution_count": 110,
      "outputs": [
        {
          "output_type": "stream",
          "name": "stdout",
          "text": [
            "['hello']\n",
            "['hello', 1]\n"
          ]
        },
        {
          "output_type": "execute_result",
          "data": {
            "text/plain": [
              "88"
            ]
          },
          "metadata": {},
          "execution_count": 110
        }
      ]
    },
    {
      "cell_type": "code",
      "source": [
        "print(L)"
      ],
      "metadata": {
        "colab": {
          "base_uri": "https://localhost:8080/"
        },
        "id": "g2F_y_mJyJ4f",
        "outputId": "d9e467a6-227f-4f5a-db6d-74453c0811b7"
      },
      "execution_count": 111,
      "outputs": [
        {
          "output_type": "stream",
          "name": "stdout",
          "text": [
            "['hello', 1, 1213]\n"
          ]
        }
      ]
    },
    {
      "cell_type": "markdown",
      "source": [
        "F"
      ],
      "metadata": {
        "id": "RXFcYFnSySh9"
      }
    },
    {
      "cell_type": "code",
      "source": [
        "sys.getsizeof(L)"
      ],
      "metadata": {
        "colab": {
          "base_uri": "https://localhost:8080/"
        },
        "id": "8bxFThFQyNEP",
        "outputId": "c8bb6179-1f28-4efc-d585-dd458b4892d3"
      },
      "execution_count": 112,
      "outputs": [
        {
          "output_type": "execute_result",
          "data": {
            "text/plain": [
              "88"
            ]
          },
          "metadata": {},
          "execution_count": 112
        }
      ]
    },
    {
      "cell_type": "markdown",
      "source": [
        "### Making a Class of My List"
      ],
      "metadata": {
        "id": "jmlgDw1hzUjF"
      }
    },
    {
      "cell_type": "markdown",
      "source": [
        "Here Lets create some function of List :\n",
        ">**1.  Create**<br>\n",
        ">**2.  len**<br>\n",
        ">**3.  append**<br>\n",
        ">**4.  print**<br>\n",
        ">**5.  indexing**<br>\n",
        ">**6.  pop**<br>\n",
        ">**7.  clear**<br>\n",
        ">**8.  find**<br>\n",
        ">**9.  insert**<br>\n",
        ">**10. delete**<br>\n",
        ">**11. remove**<br>"
      ],
      "metadata": {
        "id": "EBZJMekkDNFs"
      }
    },
    {
      "cell_type": "markdown",
      "source": [
        "#### **1. CREATE**"
      ],
      "metadata": {
        "id": "0X8uPDRlEo3R"
      }
    },
    {
      "cell_type": "code",
      "source": [
        "import ctypes\n",
        "# ctypes -> ctypes is a foreign function library for Python. It provides C compatible data types,\n",
        "#  and allows calling functions in DLLs or shared libraries.\n",
        "# It can be used to wrap these libraries in pure Python."
      ],
      "metadata": {
        "id": "0AUQ5eU7zZRN"
      },
      "execution_count": 113,
      "outputs": []
    },
    {
      "cell_type": "code",
      "source": [
        "class MyList:\n",
        "  def __init__(self):\n",
        "    self.size = 1\n",
        "    self.n = 0\n",
        "    # Create  a Ctype array with size = self.size\n",
        "    self.A  = self.__make_array(self.size)\n",
        "  # print() function\n",
        "  def __str__(self):\n",
        "    # [1,2,3] <- look like this\n",
        "    result = ''\n",
        "    for i in range(self.n):\n",
        "      result += str(self.A[i]) + ','\n",
        "    return '[' + result[:-1] + ']'\n",
        "\n",
        "  # Len() function\n",
        "  def __len__(self):\n",
        "    return self.n\n",
        "\n",
        "  # Append() function\n",
        "  def append(self,val):\n",
        "    if self.n == self.size: # It means space is full:\n",
        "      self.__resize(self.size*2) # resize\n",
        "    # append\n",
        "    self.A[self.n] = val\n",
        "    self.n += 1\n",
        "\n",
        "  # Function of resize\n",
        "  def __resize(self,new_cap):\n",
        "    B = self.__make_array(new_cap)\n",
        "    self.size = new_cap\n",
        "    for i in range(self.n): #loops move n time:\n",
        "      B[i] = self.A[i]\n",
        "    # reassign A\n",
        "    self.A = B # all the code is written in A so we copy B in A.\n",
        "\n",
        "  # indexing function\n",
        "  def __getitem__(self,ind): # magic function:- it trigger when Object ke agge []:\n",
        "    if ind >= 0 and ind < self.n :\n",
        "      return self.A[ind]\n",
        "    else:\n",
        "      return \"IndexError\"\n",
        "\n",
        "  # pop function\n",
        "  def pop(self):\n",
        "    if self.n == 0 :\n",
        "      return \"Empty error\"\n",
        "    print(self.A[self.n-1])\n",
        "    self.n -= 1;\n",
        "\n",
        "  # clear() funtion\n",
        "  def clear(self):\n",
        "    self.size = 1\n",
        "    self.n = 0\n",
        "    # self.__init__()\n",
        "\n",
        "  # find() function\n",
        "  def find(self,item):\n",
        "    for i in range(self.n):\n",
        "      if self.A[i] == item:\n",
        "        return i\n",
        "    return \"ValueError - not in list\"\n",
        "\n",
        "  # Insert Function\n",
        "  def insert(self,pos,item):\n",
        "\n",
        "    if self.n == self.size:\n",
        "      self.__resize(self.size*2)\n",
        "    for i in range(self.n,pos,-1):\n",
        "      self.A[i] = self.A[i-1]\n",
        "    # if(i == pos):\n",
        "    self.A[pos] = item\n",
        "    self.n += 1\n",
        "\n",
        "  def __delitem__(self,pos):\n",
        "    # delete\n",
        "    if 0 <= pos < self.n:\n",
        "      for i in range(pos,self.n-1):\n",
        "        self.A[i] = self.A[i+1]\n",
        "    else:\n",
        "      print(\"IndexError-pos is out of range\")\n",
        "    self.n -= 1\n",
        "\n",
        "  def remove(self,item):\n",
        "    pos = self.find(item)\n",
        "    # pos is index.\n",
        "    if type(pos) == int:\n",
        "      self.__delitem__(pos)\n",
        "    else:\n",
        "      return pos ;\n",
        "\n",
        "\n",
        "  def __make_array(self,capacity):\n",
        "    # creates a Ctype array(static,referential) with size capacity\n",
        "    return (capacity*ctypes.py_object)()"
      ],
      "metadata": {
        "id": "yYDivBDEzl5A"
      },
      "execution_count": 114,
      "outputs": []
    },
    {
      "cell_type": "code",
      "source": [
        "for i in range(10,2,-1):\n",
        "  print(i)"
      ],
      "metadata": {
        "colab": {
          "base_uri": "https://localhost:8080/"
        },
        "id": "30ADbGTC_tNq",
        "outputId": "745c358a-e85c-45ef-e2e1-f13593fded6a"
      },
      "execution_count": 115,
      "outputs": [
        {
          "output_type": "stream",
          "name": "stdout",
          "text": [
            "10\n",
            "9\n",
            "8\n",
            "7\n",
            "6\n",
            "5\n",
            "4\n",
            "3\n"
          ]
        }
      ]
    },
    {
      "cell_type": "code",
      "source": [
        "L = MyList()\n",
        "type(L)"
      ],
      "metadata": {
        "colab": {
          "base_uri": "https://localhost:8080/",
          "height": 103
        },
        "id": "7nuRRjN21XIW",
        "outputId": "6bf75a86-ed5a-4ae0-c4af-bea73e8e0ee6"
      },
      "execution_count": 116,
      "outputs": [
        {
          "output_type": "execute_result",
          "data": {
            "text/plain": [
              "__main__.MyList"
            ],
            "text/html": [
              "<div style=\"max-width:800px; border: 1px solid var(--colab-border-color);\"><style>\n",
              "      pre.function-repr-contents {\n",
              "        overflow-x: auto;\n",
              "        padding: 8px 12px;\n",
              "        max-height: 500px;\n",
              "      }\n",
              "\n",
              "      pre.function-repr-contents.function-repr-contents-collapsed {\n",
              "        cursor: pointer;\n",
              "        max-height: 100px;\n",
              "      }\n",
              "    </style>\n",
              "    <pre style=\"white-space: initial; background:\n",
              "         var(--colab-secondary-surface-color); padding: 8px 12px;\n",
              "         border-bottom: 1px solid var(--colab-border-color);\"><b>MyList</b><br/>def __init__()</pre><pre class=\"function-repr-contents function-repr-contents-collapsed\" style=\"\"><a class=\"filepath\" style=\"display:none\" href=\"#\"></a>&lt;no docstring&gt;</pre></div>"
            ]
          },
          "metadata": {},
          "execution_count": 116
        }
      ]
    },
    {
      "cell_type": "markdown",
      "source": [
        "#### **2. len() function**"
      ],
      "metadata": {
        "id": "PxlfMY4xFZg6"
      }
    },
    {
      "cell_type": "code",
      "source": [
        "len(L)"
      ],
      "metadata": {
        "colab": {
          "base_uri": "https://localhost:8080/"
        },
        "id": "S3Iv4BixDEwO",
        "outputId": "92ef9ccb-5df9-47bf-e374-61b042beeb2c"
      },
      "execution_count": 117,
      "outputs": [
        {
          "output_type": "execute_result",
          "data": {
            "text/plain": [
              "0"
            ]
          },
          "metadata": {},
          "execution_count": 117
        }
      ]
    },
    {
      "cell_type": "markdown",
      "source": [
        "#### **3. append() function**"
      ],
      "metadata": {
        "id": "d7EJXO-lJNDy"
      }
    },
    {
      "cell_type": "code",
      "source": [
        "L.append(1)\n",
        "L.append(2)\n",
        "L.append(\"hello\")\n",
        "# print(L)\n",
        "len(L)"
      ],
      "metadata": {
        "colab": {
          "base_uri": "https://localhost:8080/"
        },
        "id": "svkNyHNFE8l0",
        "outputId": "f0b36a48-a7ed-49cb-8937-0e00deaf0979"
      },
      "execution_count": 118,
      "outputs": [
        {
          "output_type": "execute_result",
          "data": {
            "text/plain": [
              "3"
            ]
          },
          "metadata": {},
          "execution_count": 118
        }
      ]
    },
    {
      "cell_type": "markdown",
      "source": [
        "#### **4. print() function**"
      ],
      "metadata": {
        "id": "TMATAXGeJUI4"
      }
    },
    {
      "cell_type": "code",
      "source": [
        "print(L)"
      ],
      "metadata": {
        "colab": {
          "base_uri": "https://localhost:8080/"
        },
        "id": "OGGVn5fbJCE9",
        "outputId": "c4c76a03-fe9d-4417-eed5-9696d64a48b9"
      },
      "execution_count": 119,
      "outputs": [
        {
          "output_type": "stream",
          "name": "stdout",
          "text": [
            "[1,2,hello]\n"
          ]
        }
      ]
    },
    {
      "cell_type": "markdown",
      "source": [
        "#### **5. indexing() function**"
      ],
      "metadata": {
        "id": "AG16z7XtKSik"
      }
    },
    {
      "cell_type": "code",
      "source": [
        "L[2]"
      ],
      "metadata": {
        "colab": {
          "base_uri": "https://localhost:8080/",
          "height": 36
        },
        "id": "483TifXpLwjA",
        "outputId": "81bf228d-c83b-49cc-a2e0-b6a13ff1305e"
      },
      "execution_count": 120,
      "outputs": [
        {
          "output_type": "execute_result",
          "data": {
            "text/plain": [
              "'hello'"
            ],
            "application/vnd.google.colaboratory.intrinsic+json": {
              "type": "string"
            }
          },
          "metadata": {},
          "execution_count": 120
        }
      ]
    },
    {
      "cell_type": "code",
      "source": [
        "# 3 is out of index so hopefully we get an error\n",
        "print(L[2])\n",
        "print(L[3]) # IndexError"
      ],
      "metadata": {
        "colab": {
          "base_uri": "https://localhost:8080/"
        },
        "id": "iKHf-T6EN-R9",
        "outputId": "544ef7e3-c83d-4461-de56-e26bb893a481"
      },
      "execution_count": 121,
      "outputs": [
        {
          "output_type": "stream",
          "name": "stdout",
          "text": [
            "hello\n",
            "IndexError\n"
          ]
        }
      ]
    },
    {
      "cell_type": "markdown",
      "source": [
        "#### **6. pop() function**"
      ],
      "metadata": {
        "id": "IpgIQ6DuOsmc"
      }
    },
    {
      "cell_type": "code",
      "source": [
        "L.pop()\n",
        "# Here hello is deleted."
      ],
      "metadata": {
        "colab": {
          "base_uri": "https://localhost:8080/"
        },
        "id": "jRCYBoxUO2yd",
        "outputId": "6e42e070-b613-47aa-eab9-5bb606baee8e"
      },
      "execution_count": 122,
      "outputs": [
        {
          "output_type": "stream",
          "name": "stdout",
          "text": [
            "hello\n"
          ]
        }
      ]
    },
    {
      "cell_type": "markdown",
      "source": [
        "#### **7. clear() funtion**"
      ],
      "metadata": {
        "id": "p3HJ-5k9O1XL"
      }
    },
    {
      "cell_type": "code",
      "source": [
        "L.clear()"
      ],
      "metadata": {
        "id": "5qMg6jQQJdoA"
      },
      "execution_count": 123,
      "outputs": []
    },
    {
      "cell_type": "code",
      "source": [
        "print(L)"
      ],
      "metadata": {
        "colab": {
          "base_uri": "https://localhost:8080/"
        },
        "id": "zmZy7T--QH6-",
        "outputId": "db99c978-4cac-4612-9116-0a308b8f2ba3"
      },
      "execution_count": 124,
      "outputs": [
        {
          "output_type": "stream",
          "name": "stdout",
          "text": [
            "[]\n"
          ]
        }
      ]
    },
    {
      "cell_type": "code",
      "source": [
        "L.append(32)\n",
        "L.append(43)\n",
        "L.append(\"vishal\")\n",
        "L.append(10)"
      ],
      "metadata": {
        "id": "amB5wLQiQOTX"
      },
      "execution_count": 125,
      "outputs": []
    },
    {
      "cell_type": "code",
      "source": [
        "print(L)\n"
      ],
      "metadata": {
        "colab": {
          "base_uri": "https://localhost:8080/"
        },
        "id": "qQpbiwI9QQCz",
        "outputId": "9471dc86-6671-44b9-9cf3-1b05d028652b"
      },
      "execution_count": 126,
      "outputs": [
        {
          "output_type": "stream",
          "name": "stdout",
          "text": [
            "[32,43,vishal,10]\n"
          ]
        }
      ]
    },
    {
      "cell_type": "markdown",
      "source": [
        "#### **8. find() function**"
      ],
      "metadata": {
        "id": "fx5Aa0LwRg5u"
      }
    },
    {
      "cell_type": "code",
      "source": [
        "L.find(10)"
      ],
      "metadata": {
        "colab": {
          "base_uri": "https://localhost:8080/"
        },
        "id": "s91M1lP1Rosk",
        "outputId": "c240a655-de38-4215-cb05-8d1c2e05ea9c"
      },
      "execution_count": 127,
      "outputs": [
        {
          "output_type": "execute_result",
          "data": {
            "text/plain": [
              "3"
            ]
          },
          "metadata": {},
          "execution_count": 127
        }
      ]
    },
    {
      "cell_type": "code",
      "source": [
        "L.find('vishal')"
      ],
      "metadata": {
        "colab": {
          "base_uri": "https://localhost:8080/"
        },
        "id": "mNSLdS40RhPO",
        "outputId": "d2791afa-dbe6-41a6-b47b-af27d4262afa"
      },
      "execution_count": 128,
      "outputs": [
        {
          "output_type": "execute_result",
          "data": {
            "text/plain": [
              "2"
            ]
          },
          "metadata": {},
          "execution_count": 128
        }
      ]
    },
    {
      "cell_type": "markdown",
      "source": [
        "#### **9. Insert Function**"
      ],
      "metadata": {
        "id": "--zLNtVgQmmM"
      }
    },
    {
      "cell_type": "code",
      "source": [
        "L.insert(2,100)\n",
        "print(L)"
      ],
      "metadata": {
        "id": "pP5c2k_poZxT",
        "colab": {
          "base_uri": "https://localhost:8080/"
        },
        "outputId": "ba8318f1-1f8c-47f9-e553-d825bba701a6"
      },
      "execution_count": 129,
      "outputs": [
        {
          "output_type": "stream",
          "name": "stdout",
          "text": [
            "[32,43,100,vishal,10]\n"
          ]
        }
      ]
    },
    {
      "cell_type": "markdown",
      "source": [
        "#### **10. Delete Function del()**"
      ],
      "metadata": {
        "id": "FaYD9O_UIgWa"
      }
    },
    {
      "cell_type": "code",
      "source": [
        "del L[2] # Here we del index position 2 which is 100\n",
        "print(L)"
      ],
      "metadata": {
        "colab": {
          "base_uri": "https://localhost:8080/"
        },
        "id": "EYjTlF_CIulS",
        "outputId": "cc2bf451-148f-425d-b4c8-c8ff429429b3"
      },
      "execution_count": 130,
      "outputs": [
        {
          "output_type": "stream",
          "name": "stdout",
          "text": [
            "[32,43,vishal,10]\n"
          ]
        }
      ]
    },
    {
      "cell_type": "markdown",
      "source": [
        "####**11. Remove function**"
      ],
      "metadata": {
        "id": "U3kv3XSkI6Qr"
      }
    },
    {
      "cell_type": "code",
      "source": [
        "print(L)\n",
        "L.remove('vishal')"
      ],
      "metadata": {
        "colab": {
          "base_uri": "https://localhost:8080/"
        },
        "id": "JRIFhOccJDi9",
        "outputId": "2b8d0814-f9d4-4a8c-f575-0b9afe5d037d"
      },
      "execution_count": 131,
      "outputs": [
        {
          "output_type": "stream",
          "name": "stdout",
          "text": [
            "[32,43,vishal,10]\n"
          ]
        }
      ]
    },
    {
      "cell_type": "code",
      "source": [
        "print(L)\n",
        "L.remove('Hey')"
      ],
      "metadata": {
        "colab": {
          "base_uri": "https://localhost:8080/",
          "height": 54
        },
        "id": "T78naf7pM36Y",
        "outputId": "4bf1f209-c8fd-4b71-f36f-5e01d4572d36"
      },
      "execution_count": 133,
      "outputs": [
        {
          "output_type": "stream",
          "name": "stdout",
          "text": [
            "[32,43,10]\n"
          ]
        },
        {
          "output_type": "execute_result",
          "data": {
            "text/plain": [
              "'ValueError - not in list'"
            ],
            "application/vnd.google.colaboratory.intrinsic+json": {
              "type": "string"
            }
          },
          "metadata": {},
          "execution_count": 133
        }
      ]
    },
    {
      "cell_type": "markdown",
      "source": [
        "### Task to make more function of List\n",
        "sort / min / max / negative indexing / Merge"
      ],
      "metadata": {
        "id": "mhkF2y-aQuwS"
      }
    },
    {
      "cell_type": "markdown",
      "source": [
        "# Thank You"
      ],
      "metadata": {
        "id": "R1qCAdh3SSGV"
      }
    }
  ]
}